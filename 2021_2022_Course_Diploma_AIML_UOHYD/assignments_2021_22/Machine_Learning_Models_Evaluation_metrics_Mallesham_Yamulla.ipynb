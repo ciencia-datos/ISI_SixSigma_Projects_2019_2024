{
  "nbformat": 4,
  "nbformat_minor": 0,
  "metadata": {
    "colab": {
      "provenance": [],
      "collapsed_sections": [
        "ulBUALy9J98h",
        "MuZcbAlWLnGu"
      ],
      "machine_shape": "hm"
    },
    "kernelspec": {
      "name": "python3",
      "display_name": "Python 3"
    },
    "language_info": {
      "name": "python"
    }
  },
  "cells": [
    {
      "cell_type": "code",
      "metadata": {
        "id": "DR87T-0mZMsF"
      },
      "source": [
        "# Importing libraries\n",
        "import numpy as np\n",
        "import pandas as pd\n",
        "import altair as alt"
      ],
      "execution_count": null,
      "outputs": []
    },
    {
      "cell_type": "code",
      "metadata": {
        "id": "FzqEYewXZiXw"
      },
      "source": [
        "# Data Loading\n",
        "df_5a = pd.read_csv('/content/drive/MyDrive/PG_Diploma_AI_ML_2021_UOHYD/assignments/5_Performance_metrics/5_a.csv')\n",
        "\n",
        "df_5b = pd.read_csv('/content/drive/MyDrive/PG_Diploma_AI_ML_2021_UOHYD/assignments/5_Performance_metrics/5_b.csv')\n",
        "\n",
        "df_5c = pd.read_csv('/content/drive/MyDrive/PG_Diploma_AI_ML_2021_UOHYD/assignments/5_Performance_metrics/5_c.csv')\n",
        "\n",
        "df_5d = pd.read_csv('/content/drive/MyDrive/PG_Diploma_AI_ML_2021_UOHYD/assignments/5_Performance_metrics/5_d.csv')"
      ],
      "execution_count": null,
      "outputs": []
    },
    {
      "cell_type": "markdown",
      "metadata": {
        "id": "dRCA6yGzZ3UJ"
      },
      "source": [
        "## Machine Learning Classification Model Metrics"
      ]
    },
    {
      "cell_type": "code",
      "metadata": {
        "id": "u3qc9PhOaGpZ"
      },
      "source": [
        "# Y label predicted based on threshold at 0.5\n",
        "df_5a['y_pred_label'] = np.where(df_5a['proba']<0.5,False,True)\n",
        "df_5b['y_pred_label'] = np.where(df_5b['proba']<0.5,False,True)\n",
        "df_5c['y_pred_label'] = np.where(df_5c['prob']<0.5,False,True)"
      ],
      "execution_count": null,
      "outputs": []
    },
    {
      "cell_type": "code",
      "metadata": {
        "id": "3qHoY0sqgTZ9"
      },
      "source": [
        "def my_confusion_matrix(y_actual,y_pred):\n",
        "    \"\"\"Custom Confusion matrix written by mallesham yamulla\"\"\"\n",
        "    TP,TN,FN,FP=0,0,0,0\n",
        "    for item in zip(y_actual,y_pred):\n",
        "        if bool(item[0])==True and item[1]==True:\n",
        "            TP+=1\n",
        "        elif bool(item[0])==False and item[1]==False:\n",
        "            TN+=1\n",
        "        elif bool(item[0])==True and item[1]==False:\n",
        "            FN+=1\n",
        "        else:\n",
        "            FP+=1\n",
        "    conf_matrix = np.array([TN,FP,FN,TP]).reshape(2,2)\n",
        "    return conf_matrix"
      ],
      "execution_count": null,
      "outputs": []
    },
    {
      "cell_type": "code",
      "metadata": {
        "id": "Vja9quJJw-0Y"
      },
      "source": [
        "from sklearn.metrics import confusion_matrix"
      ],
      "execution_count": null,
      "outputs": []
    },
    {
      "cell_type": "code",
      "metadata": {
        "id": "55JiaDvOKVqJ"
      },
      "source": [
        "def my_performance_metrics(conf_matrix):\n",
        "    \"\"\"Custom function to get classification model metrics written by mallesham yamulla\"\"\"\n",
        "    tn, fp, fn, tp = conf_matrix.ravel()\n",
        "    accuracy = np.round((tp+tn)/(tp+tn+fn+fp),3)\n",
        "    precision = np.round(tp/(tp+fp),3)\n",
        "    recall = np.round(tp/(tp+fn),3)\n",
        "    f2_score = np.round(2*precision*recall/(precision+recall),3)\n",
        "    return f'Accuracy: {accuracy},Precision: {precision},Recall: {recall},F1-score {f2_score}'"
      ],
      "execution_count": null,
      "outputs": []
    },
    {
      "cell_type": "code",
      "metadata": {
        "id": "hUFGwWouK64J"
      },
      "source": [
        "def my_auc_roc_curve(y_true, y_prob,auc_score=True,roc_plot=False):\n",
        "\n",
        "    \"\"\"Custom function to calucate AUC score and plot ROC-AUC curve written by mallesham yamulla\"\"\"\n",
        "\n",
        "    fpr = []\n",
        "    tpr = []\n",
        "\n",
        "    #y_proba = y_prob.sort_values(ascending=True)\n",
        "    #y_actual = y_true.sort_values(ascending=True)\n",
        "    df = pd.DataFrame({'y_true':y_true,'y_prob':y_prob})\n",
        "    df_sort = df.sort_values('y_prob',ascending=False)\n",
        "\n",
        "    thresholds = np.percentile(df_sort.y_prob,q=list(range(0,102,2)))[::-1]\n",
        "\n",
        "    for tshold in thresholds:\n",
        "        y_pred = np.where(df_sort.y_prob >=tshold, 1, 0)\n",
        "        tn, fp, fn, tp = my_confusion_matrix(np.array(df_sort.y_true),np.array(y_pred)).ravel()\n",
        "        tpr.append(tp / (tp + fn))\n",
        "        fpr.append(fp / (fp + tn))\n",
        "\n",
        "    df_X = pd.DataFrame({'tpr':tpr,'fpr':fpr,'threshold':thresholds})\n",
        "\n",
        "    if auc_score is True:\n",
        "        my_auc = np.trapz(df_X.tpr,df_X.fpr)\n",
        "        print(f'AUC:{my_auc}')\n",
        "        #return df_X\n",
        "\n",
        "\n",
        "    if roc_plot is True:\n",
        "        return alt.Chart(df_X).mark_area(fillOpacity = 0.8, fill = 'green').encode(\n",
        "                                                alt.X('fpr', title=\"false positive rate\"),\n",
        "                                                alt.Y('tpr', title=\"true positive rate\"))\n",
        ""
      ],
      "execution_count": null,
      "outputs": []
    },
    {
      "cell_type": "code",
      "metadata": {
        "id": "fCl3WnSWLMwf"
      },
      "source": [
        "def my_best_threshold(y_true,y_prob):\n",
        "    \"\"\"Compute the best threshold of probability which gives lowest values of metric A for the given data\"\"\"\n",
        "    df = pd.DataFrame({'y_true':y_true,'y_prob':y_prob})\n",
        "    df_sort = df.sort_values('y_prob',ascending=False)\n",
        "    thresholds = np.percentile(df_sort.y_prob,q=list(range(0,102,2)))[::-1]\n",
        "    A_scores = dict()\n",
        "    for tshold in thresholds:\n",
        "        y_pred = np.where(df_sort.y_prob >=tshold, 1, 0)\n",
        "        tn, fp, fn, tp = my_confusion_matrix(np.array(df_sort.y_true),np.array(y_pred)).ravel()\n",
        "        A_scores[tshold]= (500*fn) + (100*fp)\n",
        "    min_val = min(A_scores,key=A_scores.get)\n",
        "    return f'Threshold of probability which gives lowest values of metric A:{min_val} and {A_scores[min_val]}'"
      ],
      "execution_count": null,
      "outputs": []
    },
    {
      "cell_type": "markdown",
      "metadata": {
        "id": "ulBUALy9J98h"
      },
      "source": [
        "#### Task 1"
      ]
    },
    {
      "cell_type": "code",
      "metadata": {
        "id": "hcVsIU2r7J2y"
      },
      "source": [
        "# Looking at confusion matrix\n",
        "task_1_conf_mat = my_confusion_matrix(df_5a.y,df_5a.y_pred_label)"
      ],
      "execution_count": null,
      "outputs": []
    },
    {
      "cell_type": "code",
      "metadata": {
        "id": "74ikichpzXCA",
        "colab": {
          "base_uri": "https://localhost:8080/"
        },
        "outputId": "380258f4-e8a1-4f9e-b7a6-1650fa8fe5ef"
      },
      "source": [
        "task_1_conf_mat"
      ],
      "execution_count": null,
      "outputs": [
        {
          "output_type": "execute_result",
          "data": {
            "text/plain": [
              "array([[    0,   100],\n",
              "       [    0, 10000]])"
            ]
          },
          "metadata": {},
          "execution_count": 10
        }
      ]
    },
    {
      "cell_type": "code",
      "metadata": {
        "colab": {
          "base_uri": "https://localhost:8080/",
          "height": 35
        },
        "id": "ihBYWplqz-tc",
        "outputId": "3d1ca13c-a242-44ce-a196-cf2d0795de7b"
      },
      "source": [
        "my_performance_metrics(task_1_conf_mat)"
      ],
      "execution_count": null,
      "outputs": [
        {
          "output_type": "execute_result",
          "data": {
            "application/vnd.google.colaboratory.intrinsic+json": {
              "type": "string"
            },
            "text/plain": [
              "'Accuracy: 0.99,Precision: 0.99,Recall: 1.0,F1-score 0.995'"
            ]
          },
          "metadata": {},
          "execution_count": 11
        }
      ]
    },
    {
      "cell_type": "code",
      "metadata": {
        "colab": {
          "base_uri": "https://localhost:8080/",
          "height": 385
        },
        "id": "XFvpnhCyo4-P",
        "outputId": "7584b4e9-2572-484b-9a2a-70b5dad95dbd"
      },
      "source": [
        "my_auc_roc_curve(df_5a.y,df_5a.proba,roc_plot=True)"
      ],
      "execution_count": null,
      "outputs": [
        {
          "output_type": "stream",
          "name": "stdout",
          "text": [
            "AUC:0.487679\n"
          ]
        },
        {
          "output_type": "execute_result",
          "data": {
            "text/plain": [
              "alt.Chart(...)"
            ],
            "text/html": [
              "\n",
              "<div id=\"altair-viz-83f9673adf574ba3a86758dcd0d9a077\"></div>\n",
              "<script type=\"text/javascript\">\n",
              "  (function(spec, embedOpt){\n",
              "    let outputDiv = document.currentScript.previousElementSibling;\n",
              "    if (outputDiv.id !== \"altair-viz-83f9673adf574ba3a86758dcd0d9a077\") {\n",
              "      outputDiv = document.getElementById(\"altair-viz-83f9673adf574ba3a86758dcd0d9a077\");\n",
              "    }\n",
              "    const paths = {\n",
              "      \"vega\": \"https://cdn.jsdelivr.net/npm//vega@5?noext\",\n",
              "      \"vega-lib\": \"https://cdn.jsdelivr.net/npm//vega-lib?noext\",\n",
              "      \"vega-lite\": \"https://cdn.jsdelivr.net/npm//vega-lite@4.8.1?noext\",\n",
              "      \"vega-embed\": \"https://cdn.jsdelivr.net/npm//vega-embed@6?noext\",\n",
              "    };\n",
              "\n",
              "    function loadScript(lib) {\n",
              "      return new Promise(function(resolve, reject) {\n",
              "        var s = document.createElement('script');\n",
              "        s.src = paths[lib];\n",
              "        s.async = true;\n",
              "        s.onload = () => resolve(paths[lib]);\n",
              "        s.onerror = () => reject(`Error loading script: ${paths[lib]}`);\n",
              "        document.getElementsByTagName(\"head\")[0].appendChild(s);\n",
              "      });\n",
              "    }\n",
              "\n",
              "    function showError(err) {\n",
              "      outputDiv.innerHTML = `<div class=\"error\" style=\"color:red;\">${err}</div>`;\n",
              "      throw err;\n",
              "    }\n",
              "\n",
              "    function displayChart(vegaEmbed) {\n",
              "      vegaEmbed(outputDiv, spec, embedOpt)\n",
              "        .catch(err => showError(`Javascript Error: ${err.message}<br>This usually means there's a typo in your chart specification. See the javascript console for the full traceback.`));\n",
              "    }\n",
              "\n",
              "    if(typeof define === \"function\" && define.amd) {\n",
              "      requirejs.config({paths});\n",
              "      require([\"vega-embed\"], displayChart, err => showError(`Error loading script: ${err.message}`));\n",
              "    } else if (typeof vegaEmbed === \"function\") {\n",
              "      displayChart(vegaEmbed);\n",
              "    } else {\n",
              "      loadScript(\"vega\")\n",
              "        .then(() => loadScript(\"vega-lite\"))\n",
              "        .then(() => loadScript(\"vega-embed\"))\n",
              "        .catch(showError)\n",
              "        .then(() => displayChart(vegaEmbed));\n",
              "    }\n",
              "  })({\"config\": {\"view\": {\"continuousWidth\": 400, \"continuousHeight\": 300}}, \"data\": {\"name\": \"data-84ee7309c68c7b78cf5395c143988fae\"}, \"mark\": {\"type\": \"area\", \"fill\": \"green\", \"fillOpacity\": 0.8}, \"encoding\": {\"x\": {\"type\": \"quantitative\", \"field\": \"fpr\", \"title\": \"false positive rate\"}, \"y\": {\"type\": \"quantitative\", \"field\": \"tpr\", \"title\": \"true positive rate\"}}, \"$schema\": \"https://vega.github.io/schema/vega-lite/v4.8.1.json\", \"datasets\": {\"data-84ee7309c68c7b78cf5395c143988fae\": [{\"tpr\": 0.0001, \"fpr\": 0.0, \"threshold\": 0.8999653487823838}, {\"tpr\": 0.02, \"fpr\": 0.02, \"threshold\": 0.8912259580560882}, {\"tpr\": 0.04, \"fpr\": 0.04, \"threshold\": 0.883348273366209}, {\"tpr\": 0.0597, \"fpr\": 0.09, \"threshold\": 0.875228146807171}, {\"tpr\": 0.0796, \"fpr\": 0.12, \"threshold\": 0.8662761190564723}, {\"tpr\": 0.0997, \"fpr\": 0.13, \"threshold\": 0.8586834488366442}, {\"tpr\": 0.1198, \"fpr\": 0.14, \"threshold\": 0.8493663366172102}, {\"tpr\": 0.1397, \"fpr\": 0.17, \"threshold\": 0.8414724658860407}, {\"tpr\": 0.1598, \"fpr\": 0.18, \"threshold\": 0.8330001781273768}, {\"tpr\": 0.18, \"fpr\": 0.18, \"threshold\": 0.8242151864355196}, {\"tpr\": 0.2, \"fpr\": 0.2, \"threshold\": 0.8152564115776506}, {\"tpr\": 0.22, \"fpr\": 0.22, \"threshold\": 0.8061828201695354}, {\"tpr\": 0.2399, \"fpr\": 0.25, \"threshold\": 0.7980736942726436}, {\"tpr\": 0.2598, \"fpr\": 0.28, \"threshold\": 0.7902877851447065}, {\"tpr\": 0.2799, \"fpr\": 0.29, \"threshold\": 0.7806333931759378}, {\"tpr\": 0.3001, \"fpr\": 0.29, \"threshold\": 0.7728042392129104}, {\"tpr\": 0.3201, \"fpr\": 0.31, \"threshold\": 0.7655872910022927}, {\"tpr\": 0.3398, \"fpr\": 0.36, \"threshold\": 0.7575708434310845}, {\"tpr\": 0.3597, \"fpr\": 0.39, \"threshold\": 0.750326340567536}, {\"tpr\": 0.3796, \"fpr\": 0.42, \"threshold\": 0.7430743124089438}, {\"tpr\": 0.3997, \"fpr\": 0.43, \"threshold\": 0.7350870102638227}, {\"tpr\": 0.4198, \"fpr\": 0.44, \"threshold\": 0.7276326373060069}, {\"tpr\": 0.4399, \"fpr\": 0.45, \"threshold\": 0.7200301341609917}, {\"tpr\": 0.46, \"fpr\": 0.46, \"threshold\": 0.7119064021580577}, {\"tpr\": 0.48, \"fpr\": 0.48, \"threshold\": 0.7038865390277605}, {\"tpr\": 0.4998, \"fpr\": 0.52, \"threshold\": 0.6970125995581284}, {\"tpr\": 0.5196, \"fpr\": 0.56, \"threshold\": 0.689492495841362}, {\"tpr\": 0.5397, \"fpr\": 0.57, \"threshold\": 0.6818889792576561}, {\"tpr\": 0.5597, \"fpr\": 0.59, \"threshold\": 0.6742171820714531}, {\"tpr\": 0.5799, \"fpr\": 0.59, \"threshold\": 0.6663347498050451}, {\"tpr\": 0.6001, \"fpr\": 0.59, \"threshold\": 0.6592629154163139}, {\"tpr\": 0.6201, \"fpr\": 0.61, \"threshold\": 0.6509188967098184}, {\"tpr\": 0.64, \"fpr\": 0.64, \"threshold\": 0.6426152700922713}, {\"tpr\": 0.6599, \"fpr\": 0.67, \"threshold\": 0.6353301470511823}, {\"tpr\": 0.6798, \"fpr\": 0.7, \"threshold\": 0.6276911028742325}, {\"tpr\": 0.6997, \"fpr\": 0.73, \"threshold\": 0.619827310759345}, {\"tpr\": 0.7199, \"fpr\": 0.73, \"threshold\": 0.6118038848524405}, {\"tpr\": 0.7398, \"fpr\": 0.76, \"threshold\": 0.6042569806631191}, {\"tpr\": 0.7597, \"fpr\": 0.79, \"threshold\": 0.5964246408340792}, {\"tpr\": 0.7796, \"fpr\": 0.82, \"threshold\": 0.5868985471864013}, {\"tpr\": 0.7996, \"fpr\": 0.84, \"threshold\": 0.5782468547474482}, {\"tpr\": 0.8198, \"fpr\": 0.84, \"threshold\": 0.571110628193111}, {\"tpr\": 0.8398, \"fpr\": 0.86, \"threshold\": 0.5634772872811533}, {\"tpr\": 0.8599, \"fpr\": 0.87, \"threshold\": 0.5558273543598282}, {\"tpr\": 0.8799, \"fpr\": 0.89, \"threshold\": 0.5481674042724669}, {\"tpr\": 0.9001, \"fpr\": 0.89, \"threshold\": 0.5390504154257705}, {\"tpr\": 0.9201, \"fpr\": 0.91, \"threshold\": 0.5303688177045051}, {\"tpr\": 0.9402, \"fpr\": 0.92, \"threshold\": 0.5224092395751107}, {\"tpr\": 0.9602, \"fpr\": 0.94, \"threshold\": 0.51567727892157}, {\"tpr\": 0.9804, \"fpr\": 0.94, \"threshold\": 0.5078605632803677}, {\"tpr\": 1.0, \"fpr\": 1.0, \"threshold\": 0.5000185949718864}]}}, {\"mode\": \"vega-lite\"});\n",
              "</script>"
            ]
          },
          "metadata": {},
          "execution_count": 79
        }
      ]
    },
    {
      "cell_type": "markdown",
      "metadata": {
        "id": "MuZcbAlWLnGu"
      },
      "source": [
        "### Task 2"
      ]
    },
    {
      "cell_type": "code",
      "metadata": {
        "id": "cce2BrEsLqFb"
      },
      "source": [
        "# Looking at confusion matrix\n",
        "task_2_conf_mat = my_confusion_matrix(df_5b.y,df_5b.y_pred_label)"
      ],
      "execution_count": null,
      "outputs": []
    },
    {
      "cell_type": "code",
      "metadata": {
        "colab": {
          "base_uri": "https://localhost:8080/"
        },
        "id": "o4fLS5lEL8nT",
        "outputId": "f2ef24f4-e00b-415c-a72b-7b6d3a90af4e"
      },
      "source": [
        "task_2_conf_mat"
      ],
      "execution_count": null,
      "outputs": [
        {
          "output_type": "execute_result",
          "data": {
            "text/plain": [
              "array([[9761,  239],\n",
              "       [  45,   55]])"
            ]
          },
          "metadata": {},
          "execution_count": 13
        }
      ]
    },
    {
      "cell_type": "code",
      "metadata": {
        "colab": {
          "base_uri": "https://localhost:8080/",
          "height": 35
        },
        "id": "H07XACW3L-Mi",
        "outputId": "0866c740-a2e8-4d20-814d-b679b9de6a6c"
      },
      "source": [
        "my_performance_metrics(task_2_conf_mat)"
      ],
      "execution_count": null,
      "outputs": [
        {
          "output_type": "execute_result",
          "data": {
            "application/vnd.google.colaboratory.intrinsic+json": {
              "type": "string"
            },
            "text/plain": [
              "'Accuracy: 0.972,Precision: 0.187,Recall: 0.55,F1-score 0.279'"
            ]
          },
          "metadata": {},
          "execution_count": 14
        }
      ]
    },
    {
      "cell_type": "code",
      "metadata": {
        "colab": {
          "base_uri": "https://localhost:8080/",
          "height": 385
        },
        "id": "wjd5Np4dKI9W",
        "outputId": "78b190e4-a899-46c7-efed-cd59053f4339"
      },
      "source": [
        "my_auc_roc_curve(df_5b.y,df_5b.proba,roc_plot=True)"
      ],
      "execution_count": null,
      "outputs": [
        {
          "output_type": "stream",
          "name": "stdout",
          "text": [
            "AUC:0.9335665\n"
          ]
        },
        {
          "output_type": "execute_result",
          "data": {
            "text/plain": [
              "alt.Chart(...)"
            ],
            "text/html": [
              "\n",
              "<div id=\"altair-viz-e3174eb8e74b4a7b869263569b97f027\"></div>\n",
              "<script type=\"text/javascript\">\n",
              "  (function(spec, embedOpt){\n",
              "    let outputDiv = document.currentScript.previousElementSibling;\n",
              "    if (outputDiv.id !== \"altair-viz-e3174eb8e74b4a7b869263569b97f027\") {\n",
              "      outputDiv = document.getElementById(\"altair-viz-e3174eb8e74b4a7b869263569b97f027\");\n",
              "    }\n",
              "    const paths = {\n",
              "      \"vega\": \"https://cdn.jsdelivr.net/npm//vega@5?noext\",\n",
              "      \"vega-lib\": \"https://cdn.jsdelivr.net/npm//vega-lib?noext\",\n",
              "      \"vega-lite\": \"https://cdn.jsdelivr.net/npm//vega-lite@4.8.1?noext\",\n",
              "      \"vega-embed\": \"https://cdn.jsdelivr.net/npm//vega-embed@6?noext\",\n",
              "    };\n",
              "\n",
              "    function loadScript(lib) {\n",
              "      return new Promise(function(resolve, reject) {\n",
              "        var s = document.createElement('script');\n",
              "        s.src = paths[lib];\n",
              "        s.async = true;\n",
              "        s.onload = () => resolve(paths[lib]);\n",
              "        s.onerror = () => reject(`Error loading script: ${paths[lib]}`);\n",
              "        document.getElementsByTagName(\"head\")[0].appendChild(s);\n",
              "      });\n",
              "    }\n",
              "\n",
              "    function showError(err) {\n",
              "      outputDiv.innerHTML = `<div class=\"error\" style=\"color:red;\">${err}</div>`;\n",
              "      throw err;\n",
              "    }\n",
              "\n",
              "    function displayChart(vegaEmbed) {\n",
              "      vegaEmbed(outputDiv, spec, embedOpt)\n",
              "        .catch(err => showError(`Javascript Error: ${err.message}<br>This usually means there's a typo in your chart specification. See the javascript console for the full traceback.`));\n",
              "    }\n",
              "\n",
              "    if(typeof define === \"function\" && define.amd) {\n",
              "      requirejs.config({paths});\n",
              "      require([\"vega-embed\"], displayChart, err => showError(`Error loading script: ${err.message}`));\n",
              "    } else if (typeof vegaEmbed === \"function\") {\n",
              "      displayChart(vegaEmbed);\n",
              "    } else {\n",
              "      loadScript(\"vega\")\n",
              "        .then(() => loadScript(\"vega-lite\"))\n",
              "        .then(() => loadScript(\"vega-embed\"))\n",
              "        .catch(showError)\n",
              "        .then(() => displayChart(vegaEmbed));\n",
              "    }\n",
              "  })({\"config\": {\"view\": {\"continuousWidth\": 400, \"continuousHeight\": 300}}, \"data\": {\"name\": \"data-d4b4569215e73ec736f5fed31b8c0f21\"}, \"mark\": {\"type\": \"area\", \"fill\": \"green\", \"fillOpacity\": 0.8}, \"encoding\": {\"x\": {\"type\": \"quantitative\", \"field\": \"fpr\", \"title\": \"false positive rate\"}, \"y\": {\"type\": \"quantitative\", \"field\": \"tpr\", \"title\": \"true positive rate\"}}, \"$schema\": \"https://vega.github.io/schema/vega-lite/v4.8.1.json\", \"datasets\": {\"data-d4b4569215e73ec736f5fed31b8c0f21\": [{\"tpr\": 0.01, \"fpr\": 0.0, \"threshold\": 0.5952941839776669}, {\"tpr\": 0.53, \"fpr\": 0.0149, \"threshold\": 0.5034756816006667}, {\"tpr\": 0.56, \"fpr\": 0.0348, \"threshold\": 0.49511677835137213}, {\"tpr\": 0.6, \"fpr\": 0.0546, \"threshold\": 0.48599708576719863}, {\"tpr\": 0.67, \"fpr\": 0.0741, \"threshold\": 0.4785430944175114}, {\"tpr\": 0.71, \"fpr\": 0.0939, \"threshold\": 0.47090360495892886}, {\"tpr\": 0.75, \"fpr\": 0.1137, \"threshold\": 0.4627612241335514}, {\"tpr\": 0.77, \"fpr\": 0.1337, \"threshold\": 0.4541558884632259}, {\"tpr\": 0.8, \"fpr\": 0.1536, \"threshold\": 0.44680184349575963}, {\"tpr\": 0.85, \"fpr\": 0.1733, \"threshold\": 0.4395260458498726}, {\"tpr\": 0.9, \"fpr\": 0.193, \"threshold\": 0.4313889802867697}, {\"tpr\": 0.9, \"fpr\": 0.2132, \"threshold\": 0.42367921010255677}, {\"tpr\": 0.94, \"fpr\": 0.233, \"threshold\": 0.41539034587779017}, {\"tpr\": 0.98, \"fpr\": 0.2528, \"threshold\": 0.405910190364048}, {\"tpr\": 1.0, \"fpr\": 0.2728, \"threshold\": 0.397778093326524}, {\"tpr\": 1.0, \"fpr\": 0.293, \"threshold\": 0.3900851057253077}, {\"tpr\": 1.0, \"fpr\": 0.3132, \"threshold\": 0.3807101763274994}, {\"tpr\": 1.0, \"fpr\": 0.3334, \"threshold\": 0.3727047819891216}, {\"tpr\": 1.0, \"fpr\": 0.3536, \"threshold\": 0.3647693979030202}, {\"tpr\": 1.0, \"fpr\": 0.3738, \"threshold\": 0.3563508465166194}, {\"tpr\": 1.0, \"fpr\": 0.394, \"threshold\": 0.3477518709311822}, {\"tpr\": 1.0, \"fpr\": 0.4142, \"threshold\": 0.3399630020252765}, {\"tpr\": 1.0, \"fpr\": 0.4344, \"threshold\": 0.3305700660240673}, {\"tpr\": 1.0, \"fpr\": 0.4546, \"threshold\": 0.3218851784172766}, {\"tpr\": 1.0, \"fpr\": 0.4748, \"threshold\": 0.3122728378824752}, {\"tpr\": 1.0, \"fpr\": 0.495, \"threshold\": 0.3033693357619125}, {\"tpr\": 1.0, \"fpr\": 0.5152, \"threshold\": 0.2952438097566975}, {\"tpr\": 1.0, \"fpr\": 0.5354, \"threshold\": 0.2867971869606576}, {\"tpr\": 1.0, \"fpr\": 0.5556, \"threshold\": 0.2790866883897799}, {\"tpr\": 1.0, \"fpr\": 0.5758, \"threshold\": 0.27033826840079694}, {\"tpr\": 1.0, \"fpr\": 0.596, \"threshold\": 0.2618902276932434}, {\"tpr\": 1.0, \"fpr\": 0.6162, \"threshold\": 0.2541518339477994}, {\"tpr\": 1.0, \"fpr\": 0.6364, \"threshold\": 0.2450737086218146}, {\"tpr\": 1.0, \"fpr\": 0.6566, \"threshold\": 0.2361381820833896}, {\"tpr\": 1.0, \"fpr\": 0.6768, \"threshold\": 0.22873840459449013}, {\"tpr\": 1.0, \"fpr\": 0.697, \"threshold\": 0.2210970052793888}, {\"tpr\": 1.0, \"fpr\": 0.7172, \"threshold\": 0.21300748359283522}, {\"tpr\": 1.0, \"fpr\": 0.7374, \"threshold\": 0.2046882742051245}, {\"tpr\": 1.0, \"fpr\": 0.7576, \"threshold\": 0.19656792386318517}, {\"tpr\": 1.0, \"fpr\": 0.7778, \"threshold\": 0.187999364516099}, {\"tpr\": 1.0, \"fpr\": 0.798, \"threshold\": 0.18022228209659513}, {\"tpr\": 1.0, \"fpr\": 0.8182, \"threshold\": 0.17240302637707794}, {\"tpr\": 1.0, \"fpr\": 0.8384, \"threshold\": 0.16505176656903156}, {\"tpr\": 1.0, \"fpr\": 0.8586, \"threshold\": 0.15711077803001916}, {\"tpr\": 1.0, \"fpr\": 0.8788, \"threshold\": 0.14848124166982582}, {\"tpr\": 1.0, \"fpr\": 0.899, \"threshold\": 0.14060151401008233}, {\"tpr\": 1.0, \"fpr\": 0.9192, \"threshold\": 0.13302826253495398}, {\"tpr\": 1.0, \"fpr\": 0.9394, \"threshold\": 0.12451560759750886}, {\"tpr\": 1.0, \"fpr\": 0.9596, \"threshold\": 0.11631491183966843}, {\"tpr\": 1.0, \"fpr\": 0.9798, \"threshold\": 0.10857141182744169}, {\"tpr\": 1.0, \"fpr\": 1.0, \"threshold\": 0.10000141285578913}]}}, {\"mode\": \"vega-lite\"});\n",
              "</script>"
            ]
          },
          "metadata": {},
          "execution_count": 78
        }
      ]
    },
    {
      "cell_type": "markdown",
      "metadata": {
        "id": "i2FWFXRHLHCY"
      },
      "source": [
        "### Task 3"
      ]
    },
    {
      "cell_type": "code",
      "metadata": {
        "id": "Tq2ia4UWLKIy"
      },
      "source": [
        "# Looking at confusion matrix\n",
        "task_3_conf_mat = my_confusion_matrix(df_5c.y,df_5c.y_pred_label)"
      ],
      "execution_count": null,
      "outputs": []
    },
    {
      "cell_type": "code",
      "metadata": {
        "colab": {
          "base_uri": "https://localhost:8080/"
        },
        "id": "OzFOab7ILQ_3",
        "outputId": "f6b59b0e-3c51-4081-ba91-1f7670510bf2"
      },
      "source": [
        "task_3_conf_mat"
      ],
      "execution_count": null,
      "outputs": [
        {
          "output_type": "execute_result",
          "data": {
            "text/plain": [
              "array([[1637,  168],\n",
              "       [ 462,  585]])"
            ]
          },
          "metadata": {},
          "execution_count": 69
        }
      ]
    },
    {
      "cell_type": "code",
      "metadata": {
        "colab": {
          "base_uri": "https://localhost:8080/",
          "height": 35
        },
        "id": "5-R3WMgVLTgg",
        "outputId": "79f34a88-0093-448c-85fa-06c8d447fa25"
      },
      "source": [
        "my_performance_metrics(task_3_conf_mat)"
      ],
      "execution_count": null,
      "outputs": [
        {
          "output_type": "execute_result",
          "data": {
            "application/vnd.google.colaboratory.intrinsic+json": {
              "type": "string"
            },
            "text/plain": [
              "'Accuracy: 0.779,Precision: 0.777,Recall: 0.559,F1-score 0.65'"
            ]
          },
          "metadata": {},
          "execution_count": 74
        }
      ]
    },
    {
      "cell_type": "code",
      "metadata": {
        "colab": {
          "base_uri": "https://localhost:8080/",
          "height": 385
        },
        "id": "vTht7aN0KpMq",
        "outputId": "a4d22a69-338d-4218-a6fc-dc82b37b1cc6"
      },
      "source": [
        "my_auc_roc_curve(df_5c.y,df_5c.prob,roc_plot=True)"
      ],
      "execution_count": null,
      "outputs": [
        {
          "output_type": "stream",
          "name": "stdout",
          "text": [
            "AUC:0.8285247124748986\n"
          ]
        },
        {
          "output_type": "execute_result",
          "data": {
            "text/plain": [
              "alt.Chart(...)"
            ],
            "text/html": [
              "\n",
              "<div id=\"altair-viz-b7bc590a8b184c41bfda0cab33947447\"></div>\n",
              "<script type=\"text/javascript\">\n",
              "  (function(spec, embedOpt){\n",
              "    let outputDiv = document.currentScript.previousElementSibling;\n",
              "    if (outputDiv.id !== \"altair-viz-b7bc590a8b184c41bfda0cab33947447\") {\n",
              "      outputDiv = document.getElementById(\"altair-viz-b7bc590a8b184c41bfda0cab33947447\");\n",
              "    }\n",
              "    const paths = {\n",
              "      \"vega\": \"https://cdn.jsdelivr.net/npm//vega@5?noext\",\n",
              "      \"vega-lib\": \"https://cdn.jsdelivr.net/npm//vega-lib?noext\",\n",
              "      \"vega-lite\": \"https://cdn.jsdelivr.net/npm//vega-lite@4.8.1?noext\",\n",
              "      \"vega-embed\": \"https://cdn.jsdelivr.net/npm//vega-embed@6?noext\",\n",
              "    };\n",
              "\n",
              "    function loadScript(lib) {\n",
              "      return new Promise(function(resolve, reject) {\n",
              "        var s = document.createElement('script');\n",
              "        s.src = paths[lib];\n",
              "        s.async = true;\n",
              "        s.onload = () => resolve(paths[lib]);\n",
              "        s.onerror = () => reject(`Error loading script: ${paths[lib]}`);\n",
              "        document.getElementsByTagName(\"head\")[0].appendChild(s);\n",
              "      });\n",
              "    }\n",
              "\n",
              "    function showError(err) {\n",
              "      outputDiv.innerHTML = `<div class=\"error\" style=\"color:red;\">${err}</div>`;\n",
              "      throw err;\n",
              "    }\n",
              "\n",
              "    function displayChart(vegaEmbed) {\n",
              "      vegaEmbed(outputDiv, spec, embedOpt)\n",
              "        .catch(err => showError(`Javascript Error: ${err.message}<br>This usually means there's a typo in your chart specification. See the javascript console for the full traceback.`));\n",
              "    }\n",
              "\n",
              "    if(typeof define === \"function\" && define.amd) {\n",
              "      requirejs.config({paths});\n",
              "      require([\"vega-embed\"], displayChart, err => showError(`Error loading script: ${err.message}`));\n",
              "    } else if (typeof vegaEmbed === \"function\") {\n",
              "      displayChart(vegaEmbed);\n",
              "    } else {\n",
              "      loadScript(\"vega\")\n",
              "        .then(() => loadScript(\"vega-lite\"))\n",
              "        .then(() => loadScript(\"vega-embed\"))\n",
              "        .catch(showError)\n",
              "        .then(() => displayChart(vegaEmbed));\n",
              "    }\n",
              "  })({\"config\": {\"view\": {\"continuousWidth\": 400, \"continuousHeight\": 300}}, \"data\": {\"name\": \"data-03f6825ba5d50904e13ebd3bca1c07a8\"}, \"mark\": {\"type\": \"area\", \"fill\": \"green\", \"fillOpacity\": 0.8}, \"encoding\": {\"x\": {\"type\": \"quantitative\", \"field\": \"fpr\", \"title\": \"false positive rate\"}, \"y\": {\"type\": \"quantitative\", \"field\": \"tpr\", \"title\": \"true positive rate\"}}, \"$schema\": \"https://vega.github.io/schema/vega-lite/v4.8.1.json\", \"datasets\": {\"data-03f6825ba5d50904e13ebd3bca1c07a8\": [{\"tpr\": 0.0009551098376313276, \"fpr\": 0.0, \"threshold\": 0.9577467989277196}, {\"tpr\": 0.055396370582617004, \"fpr\": 0.000554016620498615, \"threshold\": 0.8470200202553659}, {\"tpr\": 0.1069723018147087, \"fpr\": 0.00221606648199446, \"threshold\": 0.7973453948223913}, {\"tpr\": 0.15663801337153774, \"fpr\": 0.00443213296398892, \"threshold\": 0.7431310570360841}, {\"tpr\": 0.20248328557784145, \"fpr\": 0.009418282548476454, \"threshold\": 0.6946998032242866}, {\"tpr\": 0.2531041069723018, \"fpr\": 0.01218836565096953, \"threshold\": 0.6675740403903497}, {\"tpr\": 0.29703915950334286, \"fpr\": 0.01772853185595568, \"threshold\": 0.6409194417096473}, {\"tpr\": 0.335243553008596, \"fpr\": 0.027146814404432132, \"threshold\": 0.6172848823948487}, {\"tpr\": 0.3772683858643744, \"fpr\": 0.03434903047091413, \"threshold\": 0.5936846405187168}, {\"tpr\": 0.41069723018147086, \"fpr\": 0.04653739612188366, \"threshold\": 0.5746299525773202}, {\"tpr\": 0.448901623686724, \"fpr\": 0.05595567867036011, \"threshold\": 0.5585083738774866}, {\"tpr\": 0.4813753581661891, \"fpr\": 0.06869806094182826, \"threshold\": 0.5351639771783675}, {\"tpr\": 0.5195797516714422, \"fpr\": 0.0781163434903047, \"threshold\": 0.5173601522155712}, {\"tpr\": 0.5530085959885387, \"fpr\": 0.09030470914127424, \"threshold\": 0.5026176294080309}, {\"tpr\": 0.5826170009551098, \"fpr\": 0.10470914127423822, \"threshold\": 0.4861729458538261}, {\"tpr\": 0.6084049665711557, \"fpr\": 0.12132963988919668, \"threshold\": 0.4715962282910541}, {\"tpr\": 0.6332378223495702, \"fpr\": 0.13850415512465375, \"threshold\": 0.4546986927051802}, {\"tpr\": 0.66189111747851, \"fpr\": 0.15346260387811633, \"threshold\": 0.4386893992730089}, {\"tpr\": 0.6819484240687679, \"fpr\": 0.17340720221606648, \"threshold\": 0.42793790762488915}, {\"tpr\": 0.7010506208213945, \"fpr\": 0.19390581717451524, \"threshold\": 0.4179667061245119}, {\"tpr\": 0.7134670487106017, \"fpr\": 0.21828254847645429, \"threshold\": 0.40285594157270477}, {\"tpr\": 0.7335243553008596, \"fpr\": 0.23822714681440443, \"threshold\": 0.3898991468830689}, {\"tpr\": 0.7497612225405922, \"fpr\": 0.26038781163434904, \"threshold\": 0.37725160100975563}, {\"tpr\": 0.766953199617956, \"fpr\": 0.281994459833795, \"threshold\": 0.36422651226456115}, {\"tpr\": 0.7841451766953199, \"fpr\": 0.303601108033241, \"threshold\": 0.3519561042012396}, {\"tpr\": 0.8022922636103151, \"fpr\": 0.32465373961218835, \"threshold\": 0.3369349937986683}, {\"tpr\": 0.8185291308500477, \"fpr\": 0.34681440443213296, \"threshold\": 0.32591616269704454}, {\"tpr\": 0.8271251193887297, \"fpr\": 0.3734072022160665, \"threshold\": 0.3154089511890669}, {\"tpr\": 0.8385864374403056, \"fpr\": 0.39833795013850415, \"threshold\": 0.3041509327936817}, {\"tpr\": 0.8490926456542502, \"fpr\": 0.42382271468144045, \"threshold\": 0.2942647882047536}, {\"tpr\": 0.8615090735434575, \"fpr\": 0.4481994459833795, \"threshold\": 0.28199542474907807}, {\"tpr\": 0.87774594078319, \"fpr\": 0.4703601108033241, \"threshold\": 0.26720329394211645}, {\"tpr\": 0.8930276981852913, \"fpr\": 0.4930747922437673, \"threshold\": 0.25953645129461544}, {\"tpr\": 0.9063992359121299, \"fpr\": 0.5168975069252078, \"threshold\": 0.24843621996608944}, {\"tpr\": 0.9140401146131805, \"fpr\": 0.5440443213296399, \"threshold\": 0.23780567220739413}, {\"tpr\": 0.9255014326647565, \"fpr\": 0.5689750692520775, \"threshold\": 0.2276636573511201}, {\"tpr\": 0.9293218720152817, \"fpr\": 0.5983379501385041, \"threshold\": 0.21732202558098612}, {\"tpr\": 0.9379178605539638, \"fpr\": 0.6249307479224376, \"threshold\": 0.20637877754262973}, {\"tpr\": 0.944603629417383, \"fpr\": 0.6526315789473685, \"threshold\": 0.19689968892045917}, {\"tpr\": 0.9512893982808023, \"fpr\": 0.6803324099722992, \"threshold\": 0.18609088862264483}, {\"tpr\": 0.9579751671442216, \"fpr\": 0.7080332409972299, \"threshold\": 0.17621954486176772}, {\"tpr\": 0.9637058261700095, \"fpr\": 0.7362880886426593, \"threshold\": 0.16736644120836577}, {\"tpr\": 0.9684813753581661, \"fpr\": 0.7650969529085873, \"threshold\": 0.1589418656117207}, {\"tpr\": 0.9732569245463228, \"fpr\": 0.7939058171745152, \"threshold\": 0.14817183031423672}, {\"tpr\": 0.9808978032473734, \"fpr\": 0.8210526315789474, \"threshold\": 0.1357706346382966}, {\"tpr\": 0.9856733524355301, \"fpr\": 0.8498614958448754, \"threshold\": 0.12495039959211612}, {\"tpr\": 0.9894937917860553, \"fpr\": 0.8792243767313019, \"threshold\": 0.11427366160057689}, {\"tpr\": 0.9961795606494747, \"fpr\": 0.9069252077562326, \"threshold\": 0.09695854744395693}, {\"tpr\": 0.9980897803247374, \"fpr\": 0.9373961218836565, \"threshold\": 0.07330492709134077}, {\"tpr\": 1.0, \"fpr\": 0.9678670360110804, \"threshold\": 0.052503477463851055}, {\"tpr\": 1.0, \"fpr\": 1.0, \"threshold\": 0.02803798623987141}]}}, {\"mode\": \"vega-lite\"});\n",
              "</script>"
            ]
          },
          "metadata": {},
          "execution_count": 77
        }
      ]
    },
    {
      "cell_type": "code",
      "metadata": {
        "colab": {
          "base_uri": "https://localhost:8080/",
          "height": 35
        },
        "id": "_rN7kYZHzVyi",
        "outputId": "d9798829-fdfa-4e7f-9827-9ebc32c96e68"
      },
      "source": [
        "my_best_threshold(df_5c.y,df_5c.prob)"
      ],
      "execution_count": null,
      "outputs": [
        {
          "output_type": "execute_result",
          "data": {
            "application/vnd.google.colaboratory.intrinsic+json": {
              "type": "string"
            },
            "text/plain": [
              "'Threshold of probability which gives lowest values of metric A:0.2276636573511201 and 141700'"
            ]
          },
          "metadata": {},
          "execution_count": 88
        }
      ]
    },
    {
      "cell_type": "markdown",
      "metadata": {
        "id": "jBqox4VnaETN"
      },
      "source": [
        "## Machine Learning Regression Model Metrics"
      ]
    },
    {
      "cell_type": "code",
      "metadata": {
        "id": "SscQbc19bK0K"
      },
      "source": [
        "def my_r_squrd(y_actual,y_pred):\n",
        "    \"\"\"Regression model R Squared custom function written by mallesham yamulla\"\"\"\n",
        "    y_mean = np.mean(y_actual)\n",
        "    err = np.array((y_actual - y_pred)**2)\n",
        "    ssr = np.sum(err)\n",
        "    sst = np.sum(np.array((y_actual-y_mean))**2)\n",
        "    return np.round(1 - (ssr/sst),3)"
      ],
      "execution_count": null,
      "outputs": []
    },
    {
      "cell_type": "code",
      "metadata": {
        "id": "z4skSn7GbdE8",
        "colab": {
          "base_uri": "https://localhost:8080/"
        },
        "outputId": "090b68eb-46ae-4acf-f699-7446e9482d4d"
      },
      "source": [
        "my_r_squrd(df_5d.y,df_5d.pred)"
      ],
      "execution_count": null,
      "outputs": [
        {
          "output_type": "execute_result",
          "data": {
            "text/plain": [
              "0.956"
            ]
          },
          "metadata": {},
          "execution_count": 82
        }
      ]
    },
    {
      "cell_type": "code",
      "metadata": {
        "id": "v-0Fg4OidN6b"
      },
      "source": [
        "def my_rmse(y_actual,y_pred):\n",
        "    \"\"\"Regression model RMSE custom function written by mallesham yamulla\"\"\"\n",
        "    N=len(y_actual)\n",
        "    sum_err = np.sum(np.array((y_actual - y_pred)**2))\n",
        "    rmse_cal = np.round(sum_err/N,3)\n",
        "    return rmse_cal"
      ],
      "execution_count": null,
      "outputs": []
    },
    {
      "cell_type": "code",
      "metadata": {
        "id": "DaVEqzTqfO3A",
        "colab": {
          "base_uri": "https://localhost:8080/"
        },
        "outputId": "32fd871b-ce94-420f-d43d-f82f8a06dce3"
      },
      "source": [
        "my_rmse(df_5d.y,df_5d.pred)"
      ],
      "execution_count": null,
      "outputs": [
        {
          "output_type": "execute_result",
          "data": {
            "text/plain": [
              "177.166"
            ]
          },
          "metadata": {},
          "execution_count": 84
        }
      ]
    }
  ]
}